{
  "nbformat": 4,
  "nbformat_minor": 0,
  "metadata": {
    "colab": {
      "provenance": []
    },
    "kernelspec": {
      "name": "python3",
      "display_name": "Python 3"
    },
    "language_info": {
      "name": "python"
    }
  },
  "cells": [
    {
      "cell_type": "code",
      "execution_count": null,
      "metadata": {
        "id": "qx8GgSZL9rPL"
      },
      "outputs": [],
      "source": [
        "!pip install google-cloud-aiplatform\n",
        "!pip install --user datasets\n",
        "!pip install --user google-cloud-pipeline-components"
      ]
    },
    {
      "cell_type": "code",
      "source": [
        "import IPython\n",
        "\n",
        "app = IPython.Application.instance()\n",
        "app.kernel.do_shutdown(True)"
      ],
      "metadata": {
        "id": "BVhbdZHv97GV"
      },
      "execution_count": null,
      "outputs": []
    },
    {
      "cell_type": "code",
      "source": [
        "import IPython\n",
        "from google.cloud import aiplatform\n",
        "from google.colab import auth as google_auth\n",
        "google_auth.authenticate_user()"
      ],
      "metadata": {
        "id": "sIjH82To97IS"
      },
      "execution_count": null,
      "outputs": []
    },
    {
      "cell_type": "code",
      "source": [
        "import vertexai\n",
        "PROJECT_ID = \"YOUR_PROJECT_ID\" #@param\n",
        "vertexai.init(project=PROJECT_ID)"
      ],
      "metadata": {
        "id": "fxFTWaWK97Lt"
      },
      "execution_count": null,
      "outputs": []
    },
    {
      "cell_type": "code",
      "source": [
        "region = \"us-central1\"\n",
        "REGION = \"us-central1\"\n",
        "project_id = \"YOUR_PROJECT_ID\""
      ],
      "metadata": {
        "id": "jpajzj1e97Nf"
      },
      "execution_count": null,
      "outputs": []
    },
    {
      "cell_type": "code",
      "source": [
        "! gcloud config set project {project_id}"
      ],
      "metadata": {
        "id": "o7OXroDk97RJ"
      },
      "execution_count": null,
      "outputs": []
    },
    {
      "cell_type": "code",
      "source": [
        "#Import the necessary libraries\n",
        "\n",
        "import os\n",
        "os.environ['TF_CPP_MIN_LOG_LEVEL'] = '3'\n",
        "import warnings\n",
        "warnings.filterwarnings('ignore')\n",
        "import vertexai\n",
        "vertexai.init(project=PROJECT_ID, location=REGION)\n",
        "import kfp\n",
        "import sys\n",
        "import uuid\n",
        "import json\n",
        "import vertexai\n",
        "import pandas as pd\n",
        "from google.auth import default\n",
        "from datasets import load_dataset\n",
        "from google.cloud import aiplatform\n",
        "from vertexai.preview.language_models import TextGenerationModel, EvaluationTextSummarizationSpec"
      ],
      "metadata": {
        "id": "HQ5CBFoD97S9"
      },
      "execution_count": null,
      "outputs": []
    },
    {
      "cell_type": "code",
      "source": [
        "#Prepare and load training data\n",
        "BUCKET_NAME = 'YOUR_BUCKET'\n",
        "BUCKET_URI = f\"gs://YOUR_BUCKET/TRAIN.jsonl\"\n",
        "REGION = \"us-central1\""
      ],
      "metadata": {
        "id": "zIHYMo4M97Wl"
      },
      "execution_count": null,
      "outputs": []
    },
    {
      "cell_type": "code",
      "source": [
        "json_url = 'https://storage.googleapis.com/YOUR_BUCKET/TRAIN.jsonl'\n",
        "df = pd.read_json(json_url, lines=True)\n",
        "print (df)"
      ],
      "metadata": {
        "id": "_fce6gE797Yc"
      },
      "execution_count": null,
      "outputs": []
    },
    {
      "cell_type": "code",
      "source": [
        "print(df.shape)"
      ],
      "metadata": {
        "id": "Mc6N-lrn-cLt"
      },
      "execution_count": null,
      "outputs": []
    },
    {
      "cell_type": "code",
      "source": [
        "model_display_name = 'bbc-finetuned-model' # @param {type:\"string\"}\n",
        "tuned_model = TextGenerationModel.from_pretrained(\"text-bison@002\")\n",
        "tuned_model.tune_model(\n",
        "training_data=df,\n",
        "train_steps=100,\n",
        "tuning_job_location=\"europe-west4\",\n",
        "tuned_model_location=\"europe-west4\",\n",
        ")"
      ],
      "metadata": {
        "id": "465aRCS3-cNu"
      },
      "execution_count": null,
      "outputs": []
    },
    {
      "cell_type": "code",
      "source": [
        "#Predict with the new Fine Tuned Model\n",
        "response = tuned_model.predict(\"Summarize this text to generate a title: \\n Ever noticed how plane seats appear to be getting smaller and smaller? With increasing numbers of people taking to the skies, some experts are questioning if having such packed out planes is putting passengers at risk. They say that the shrinking space on aeroplanes is not only uncomfortable it it's putting our health and safety in danger. More than squabbling over the arm rest, shrinking space on planes putting our health and safety in danger? This week, a U.S consumer advisory group set up by the Department of Transportation said at a public hearing that while the government is happy to set standards for animals flying on planes, it doesn't stipulate a minimum amount of space for humans.\")\n",
        "print(response.text)"
      ],
      "metadata": {
        "id": "dlUtluHk-cRJ"
      },
      "execution_count": null,
      "outputs": []
    },
    {
      "cell_type": "code",
      "source": [
        "tuned_model_name = tuned_model._endpoint.gca_resource.deployed_models[0].model\n",
        "tuned_model_1 = TextGenerationModel.get_tuned_model(tuned_model_name)\n",
        "#TextGenerationModel.get_tuned_model(\"bbc-finetuned-model\")\n",
        "response = tuned_model_1.predict(\"Summarize this text to generate a title: \\n Ever noticed how plane seats appear to be getting smaller and smaller? With increasing numbers of people taking to the skies, some experts are questioning if having such packed out planes is putting passengers at risk. They say that the shrinking space on aeroplanes is not only uncomfortable it it's putting our health and safety in danger. More than squabbling over the arm rest, shrinking space on planes putting our health and safety in danger? This week, a U.S consumer advisory group set up by the Department of Transportation said at a public hearing that while the government is happy to set standards for animals flying on planes, it doesn't stipulate a minimum amount of space for humans.\")\n",
        "print(response.text)"
      ],
      "metadata": {
        "id": "uqe4u4gS-cSy"
      },
      "execution_count": null,
      "outputs": []
    },
    {
      "cell_type": "code",
      "source": [
        "#Predict with Base Model for comparison\n",
        "base_model = TextGenerationModel.from_pretrained(\"text-bison@002\")\n",
        "response = base_model.predict(\"Summarize this text to generate a title: \\n Ever noticed how plane seats appear to be getting smaller and smaller? With increasing numbers of people taking to the skies, some experts are questioning if having such packed out planes is putting passengers at risk. They say that the shrinking space on aeroplanes is not only uncomfortable it it's putting our health and safety in danger. More than squabbling over the arm rest, shrinking space on planes putting our health and safety in danger? This week, a U.S consumer advisory group set up by the Department of Transportation said at a public hearing that while the government is happy to set standards for animals flying on planes, it doesn't stipulate a minimum amount of space for humans.\")\n",
        "print(response.text)"
      ],
      "metadata": {
        "id": "tuWAADT2-cWY"
      },
      "execution_count": null,
      "outputs": []
    },
    {
      "cell_type": "code",
      "source": [],
      "metadata": {
        "id": "SRIK2VfT-cYH"
      },
      "execution_count": null,
      "outputs": []
    },
    {
      "cell_type": "code",
      "source": [],
      "metadata": {
        "id": "9-jLNq3J-cb4"
      },
      "execution_count": null,
      "outputs": []
    },
    {
      "cell_type": "code",
      "source": [],
      "metadata": {
        "id": "QLCZ9q2V97cC"
      },
      "execution_count": null,
      "outputs": []
    }
  ]
}